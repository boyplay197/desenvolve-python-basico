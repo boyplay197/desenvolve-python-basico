{
 "cells": [
  {
   "cell_type": "markdown",
   "id": "cbdff5a5",
   "metadata": {},
   "source": [
    "# Módulo 5 - Funções\n",
    "\n",
    "## Aulas 5.2 - Funções Customizadas e 5.4 Funções ```lambda```"
   ]
  },
  {
   "cell_type": "markdown",
   "id": "28a3fee2",
   "metadata": {},
   "source": [
    "### Q1.\n",
    "\n",
    "- Sabendo que o código a seguir calcula o fatorial de n, escreva uma função chamada ```fatorial()``` que recebe um inteiro ```n``` como parâmetro e retorna o resultado do fatorial de ```n```. \n",
    "- No programa principal, peça ao usuário o valor de ```n```, chame a sua função e imprima o retorno.\n",
    "\n",
    "```python\n",
    "fat = 1\n",
    "for i in range(1, n+1):\n",
    "    fat *= i \n",
    "```"
   ]
  },
  {
   "cell_type": "code",
   "execution_count": null,
   "id": "d126b3a5",
   "metadata": {},
   "outputs": [],
   "source": [
    "def fatorial(n):\n",
    "    fat = 1\n",
    "    for i in range(1, n + 1):\n",
    "        fat *= i\n",
    "    return fat"
   ]
  },
  {
   "cell_type": "code",
   "execution_count": null,
   "id": "6e4fe64e",
   "metadata": {},
   "outputs": [],
   "source": [
    "n = int(input(\"Digite um número inteiro para calcular o fatorial: \"))\n",
    "resultado = fatorial(n)\n",
    "print(f\"O fatorial de {n} é {resultado}\")"
   ]
  },
  {
   "cell_type": "markdown",
   "id": "c0a1f599",
   "metadata": {},
   "source": [
    "### Q2.\n",
    "\n",
    "- Escreva uma função em Python chamada ```soma_quadrados``` que recebe dois números como parâmetros e retorna a soma dos seus quadrados. \n",
    "- No programa principal solicite ao usuário que insira dois números e utilize a função para exibir a soma dos quadrados."
   ]
  },
  {
   "cell_type": "code",
   "execution_count": null,
   "id": "6dbddaad",
   "metadata": {},
   "outputs": [],
   "source": [
    "def soma_quadrados(a, b):\n",
    "    return a**2 + b**2"
   ]
  },
  {
   "cell_type": "code",
   "execution_count": null,
   "id": "9175a7da",
   "metadata": {},
   "outputs": [],
   "source": [
    "num1 = float(input(\"Digite o primeiro número: \"))\n",
    "num2 = float(input(\"Digite o segundo número: \"))\n",
    "\n",
    "resultado = soma_quadrados(num1, num2)\n",
    "print(f\"A soma dos quadrados de {num1} e {num2} é {resultado}\")"
   ]
  },
  {
   "cell_type": "markdown",
   "id": "6ba34ce0",
   "metadata": {},
   "source": [
    "### Q3.\n",
    "\n",
    "- Crie uma função em Python chamada ```soma_digitos``` que recebe um número inteiro como parâmetro e retorna a soma dos seus dígitos. Por exemplo, para o número 123, a função deve retornar 6, $(1 + 2 + 3)$.\n",
    "    - O desafio aqui é separar os dígitos de um número inteiro usando operações aritméticas <br> <br>\n",
    "\n",
    "- No programa principal solicite ao usuário que insira um número e utilize a função ```soma_digitos``` para calcular e exibir a soma dos seus dígitos."
   ]
  },
  {
   "cell_type": "code",
   "execution_count": null,
   "id": "34838ebf",
   "metadata": {},
   "outputs": [],
   "source": [
    "def soma_digitos(numero):\n",
    "    numero = abs(numero)  \n",
    "    soma = 0\n",
    "    while numero > 0:\n",
    "        digito = numero % 10     \n",
    "        soma += digito          \n",
    "        numero = numero // 10    \n",
    "    return soma  \n",
    "if __name__ == \"__main__\":\n",
    "    try:\n",
    "        num = int(input(\"Digite um número inteiro: \"))\n",
    "        resultado = soma_digitos(num)\n",
    "        print(f\"A soma dos dígitos de {num} é {resultado}.\")\n",
    "    except ValueError:\n",
    "        print(\"Por favor, digite um número inteiro válido.\")"
   ]
  },
  {
   "cell_type": "markdown",
   "id": "c318b159",
   "metadata": {},
   "source": [
    "### Q4.\n",
    "\n",
    "- Crie a função ```inverteValor()``` que recebe um inteiro de qualquer tamanho e retorna esse valor invertido usando apenas operações aritméticas\n",
    "- Crie a função ```verificaInverso()``` que recebe o valor original e o valor invertido e retorna verdadeiro se ambos forem igualmente par ou igualmente ímpar. Retorne falso caso contrário.\n",
    "- No programa principal, peça um valor do usuário e imprima o retorno de ambas as funções.\n"
   ]
  },
  {
   "cell_type": "code",
   "execution_count": null,
   "id": "e4e47d1d",
   "metadata": {},
   "outputs": [],
   "source": [
    "def inverteValor(n):\n",
    "    invertido = 0\n",
    "    negativo = n < 0\n",
    "    n = abs(n)\n",
    "    \n",
    "    while n > 0:\n",
    "        digito = n % 10\n",
    "        invertido = invertido * 10 + digito\n",
    "        n = n // 10\n",
    "\n",
    "    return -invertido if negativo else invertido\n",
    "\n",
    "def verificaInverso(original, invertido):\n",
    "    return (original % 2) == (invertido % 2)"
   ]
  },
  {
   "cell_type": "code",
   "execution_count": null,
   "id": "a9514e56",
   "metadata": {},
   "outputs": [],
   "source": [
    "try:\n",
    "    numero = int(input(\"Digite um número inteiro: \"))\n",
    "    valor_invertido = inverteValor(numero)\n",
    "    print(f\"Valor invertido: {valor_invertido}\")\n",
    "    print(\"São ambos pares ou ímpares?\", verificaInverso(numero, valor_invertido))\n",
    "except ValueError:\n",
    "    print(\"Por favor, digite um número inteiro válido.\")"
   ]
  },
  {
   "cell_type": "markdown",
   "id": "329be966",
   "metadata": {},
   "source": [
    "### Q5.\n",
    "\n",
    "Você está desenvolvendo um programa para auxiliar em cálculos de geometria básica. Crie as seguintes funções:\n",
    "- A função ```calcula_perimetro_triangulo()``` que recebe três inteiros correspondentes aos lados de um triângulo e retorna o perímetro do triângulo, ou seja, a soma dos seus lados.\n",
    "- A função ```calcula_perimetro_circulo()``` que recebe um inteiro referente ao raio do círculo e retorna o perímetro do círculo, dado por $2 \\pi r$. Use a constante $\\pi$ da biblioteca ```math```.\n",
    "- A função ```calcula_perimetro_retangulo()``` que possui um parâmetro obrigatório ```lado1``` e um opcional ```lado2```, ambos inteiros. Se o valor opcional não for fornecido, significa que se trata de um quadrado. Sua função deve calcular e retornar o perímetro do retângulo, ou seja, a soma de seus lados. \n",
    "    - Para o quadrado, é dado por $4 \\times lado1$\n",
    "    - Para o retângulo é dado por $2 \\times lado1 + 2 \\times lado2$\n",
    "    \n",
    "- No programa principal apresente um menu com as opções disponíveis do seu sistema e uma quarta opção ```Sair```. Solicite ao usuário a opção desejada, solicite as entradas correspondentes à opção escolhida, invoque a respective função e apresente o seu retorno. Seu programa deve retornar ao menu até que o usuário escolha a opção ```Sair```\n",
    "\n",
    "Exemplo de interação:\n",
    "```\n",
    "1 - Calcular perímetro triângulo\n",
    "2 - Calcular perímetro círculo\n",
    "3 - Calcular perímetro retângulo\n",
    "4 - Sair\n",
    "\n",
    "Opção: 1\n",
    "Digite os três lados do triângulo:\n",
    "3\n",
    "4\n",
    "5\n",
    "O perímetro é: 12\n",
    "\n",
    "1 - Calcular perímetro triângulo\n",
    "2 - Calcular perímetro círculo\n",
    "3 - Calcular perímetro retângulo\n",
    "4 - Sair\n",
    "\n",
    "Opção: 3\n",
    "Informe os dois lados do retângulo. Se for um quadrado, digite 0 para o segundo valor:\n",
    "5\n",
    "0\n",
    "O perímetro é: 20\n",
    "\n",
    "1 - Calcular perímetro triângulo\n",
    "2 - Calcular perímetro círculo\n",
    "3 - Calcular perímetro retângulo\n",
    "4 - Sair\n",
    "\n",
    "Opção: 4\n",
    "```"
   ]
  },
  {
   "cell_type": "code",
   "execution_count": null,
   "id": "0793d328",
   "metadata": {},
   "outputs": [],
   "source": [
    "import math\n",
    "\n",
    "def calcula_perimetro_triangulo(l1, l2, l3):\n",
    "    return l1 + l2 + l3\n",
    "\n",
    "def calcula_perimetro_circulo(raio):\n",
    "    return 2 * math.pi * raio\n",
    "\n",
    "def calcula_perimetro_retangulo(lado1, lado2=0):\n",
    "    if lado2 == 0:\n",
    "        return 4 * lado1\n",
    "    else:\n",
    "        return 2 * (lado1 + lado2)"
   ]
  },
  {
   "cell_type": "code",
   "execution_count": null,
   "id": "36269c71",
   "metadata": {},
   "outputs": [],
   "source": [
    "def main():\n",
    "    while True:\n",
    "        print(\"\\n1 - Calcular perímetro triângulo\")\n",
    "        print(\"2 - Calcular perímetro círculo\")\n",
    "        print(\"3 - Calcular perímetro retângulo\")\n",
    "        print(\"4 - Sair\")\n",
    "        \n",
    "        opcao = input(\"\\nOpção: \")\n",
    "\n",
    "        if opcao == \"1\":\n",
    "            print(\"Digite os três lados do triângulo:\")\n",
    "            try:\n",
    "                l1 = int(input())\n",
    "                l2 = int(input())\n",
    "                l3 = int(input())\n",
    "            except ValueError:\n",
    "                print(\"Entrada inválida, digite números inteiros.\")\n",
    "                continue\n",
    "            perimetro = calcula_perimetro_triangulo(l1, l2, l3)\n",
    "            print(f\"O perímetro é: {perimetro}\")\n",
    "\n",
    "        elif opcao == \"2\":\n",
    "            print(\"Digite o raio do círculo:\")\n",
    "            try:\n",
    "                r = int(input())\n",
    "                if r < 0:\n",
    "                    print(\"Raio não pode ser negativo.\")\n",
    "                    continue\n",
    "            except ValueError:\n",
    "                print(\"Entrada inválida, digite um número inteiro.\")\n",
    "                continue\n",
    "            perimetro = calcula_perimetro_circulo(r)\n",
    "            print(f\"O perímetro é: {perimetro:.2f}\")\n",
    "\n",
    "        elif opcao == \"3\":\n",
    "            print(\"Informe os dois lados do retângulo. Se for um quadrado, digite 0 para o segundo valor:\")\n",
    "            try:\n",
    "                l1 = int(input())\n",
    "                l2 = int(input())\n",
    "                if l1 < 0 or l2 < 0:\n",
    "                    print(\"Lados não podem ser negativos.\")\n",
    "                    continue\n",
    "            except ValueError:\n",
    "                print(\"Entrada inválida, digite números inteiros.\")\n",
    "                continue\n",
    "            perimetro = calcula_perimetro_retangulo(l1, l2)\n",
    "            print(f\"O perímetro é: {perimetro}\")\n",
    "\n",
    "        elif opcao == \"4\":\n",
    "            print(\"Saindo...\")\n",
    "            break\n",
    "\n",
    "        else:\n",
    "            print(\"Opção inválida. Tente novamente.\")\n",
    "\n",
    "if __name__ == \"__main__\":\n",
    "    main()"
   ]
  },
  {
   "cell_type": "markdown",
   "id": "3016bcc7",
   "metadata": {},
   "source": [
    "## Funções ```lambda```"
   ]
  },
  {
   "cell_type": "markdown",
   "id": "f9cdb8dd",
   "metadata": {},
   "source": [
    "### Q6.\n",
    "\n",
    "Crie uma função lambda para verificar se um número é par ou ímpar. Em seguida, solicite ao usuário um número indefinidos de valores (até que o usuário digite 0). Para cada valor de entrada, informe se é par ou ímpar.\n",
    "\n",
    "Exemplo de interação:\n",
    "```\n",
    "Digite os valores que deseja verificar a paridade (digite 0 para finalizar a entrada de dados):\n",
    "3\n",
    "ímpar\n",
    "8\n",
    "par\n",
    "12\n",
    "par\n",
    "5\n",
    "ímpar\n",
    "7ímpar\n",
    "```"
   ]
  },
  {
   "cell_type": "code",
   "execution_count": null,
   "id": "e3c31a78",
   "metadata": {},
   "outputs": [],
   "source": [
    "verificar_paridade = lambda x: \"par\" if x % 2 == 0 else \"ímpar\"\n",
    "\n",
    "print(\"Digite os valores que deseja verificar a paridade (digite 0 para finalizar a entrada de dados):\")\n",
    "\n",
    "while True:\n",
    "    valor = int(input())\n",
    "    if valor == 0:\n",
    "        break\n",
    "    print(verificar_paridade(valor))"
   ]
  },
  {
   "cell_type": "markdown",
   "id": "5a87474d",
   "metadata": {},
   "source": [
    "### Q7.\n",
    "\n",
    "Escreva um programa que pergunte ao usuário qual operação ele deseja: maior ou menor.\n",
    "Em seguida leia uma quantidade indefinida de valores do usuário, até que o usuário digite o valor zero.\n",
    "Apresente ao final o maior ou menor dos valores digitados de acordo com a escolha do usuário.\n",
    "\n",
    "**Sua solução deve incluir pelo menos uma função ```lambda```** \n",
    "\n",
    "Exemplo de interação:\n",
    "```\n",
    "Opções: (1) maior ou (2) menor?\n",
    "Opção: 1\n",
    "\n",
    "Digite os valores de entrada. Digite 0 para finalizar a entrada de valores.\n",
    "4\n",
    "12\n",
    "15\n",
    "1\n",
    "0\n",
    "\n",
    "O maior valor é: 15\n",
    "```"
   ]
  },
  {
   "cell_type": "code",
   "execution_count": null,
   "id": "ee3f68ca",
   "metadata": {},
   "outputs": [],
   "source": [
    "opcao = input(\"Opções: (1) maior ou (2) menor?\\nOpção: \")\n",
    "if opcao == '1':\n",
    "    operacao = lambda lista: max(lista)\n",
    "    texto = \"maior\"\n",
    "elif opcao == '2':\n",
    "    operacao = lambda lista: min(lista)\n",
    "    texto = \"menor\"\n",
    "else:\n",
    "    print(\"Opção inválida!\")\n",
    "    exit()\n",
    "\n",
    "print(\"\\nDigite os valores de entrada. Digite 0 para finalizar a entrada de valores.\")\n",
    "\n",
    "valores = []\n",
    "while True:\n",
    "    try:\n",
    "        valor = int(input())\n",
    "    except ValueError:\n",
    "        print(\"Por favor, digite um número válido.\")\n",
    "        continue\n",
    "\n",
    "    if valor == 0:\n",
    "        break\n",
    "    valores.append(valor)\n",
    "\n",
    "if not valores:\n",
    "    print(\"Nenhum valor válido foi digitado.\")\n",
    "else:\n",
    "    resultado = operacao(valores)\n",
    "    print(f\"\\nO {texto} valor é: {resultado}\") "
   ]
  }
 ],
 "metadata": {
  "kernelspec": {
   "display_name": "Python 3 (ipykernel)",
   "language": "python",
   "name": "python3"
  },
  "language_info": {
   "codemirror_mode": {
    "name": "ipython",
    "version": 3
   },
   "file_extension": ".py",
   "mimetype": "text/x-python",
   "name": "python",
   "nbconvert_exporter": "python",
   "pygments_lexer": "ipython3",
   "version": "3.9.6"
  }
 },
 "nbformat": 4,
 "nbformat_minor": 5
}
